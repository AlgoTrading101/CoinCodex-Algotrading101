{
 "cells": [
  {
   "cell_type": "code",
   "execution_count": null,
   "id": "6dac50f1",
   "metadata": {},
   "outputs": [],
   "source": [
    "import requests\n",
    "import pandas as pd"
   ]
  },
  {
   "cell_type": "markdown",
   "id": "591f3064",
   "metadata": {},
   "source": [
    "# Assets"
   ]
  },
  {
   "cell_type": "code",
   "execution_count": null,
   "id": "7ca7764d",
   "metadata": {},
   "outputs": [],
   "source": [
    "assets = pd.DataFrame(requests.get('https://coincodex.com/apps/coincodex/cache/all_coins.json').json())\n",
    "assets.head().T"
   ]
  },
  {
   "cell_type": "markdown",
   "id": "90742eea",
   "metadata": {},
   "source": [
    "# Coin Data"
   ]
  },
  {
   "cell_type": "code",
   "execution_count": null,
   "id": "98c0cc96",
   "metadata": {},
   "outputs": [],
   "source": [
    "ftm = requests.get('https://coincodex.com/api/coincodex/get_coin/FTM').json()\n",
    "ftm"
   ]
  },
  {
   "cell_type": "markdown",
   "id": "42b3c139",
   "metadata": {},
   "source": [
    "# Historical Data"
   ]
  },
  {
   "cell_type": "code",
   "execution_count": null,
   "id": "bf10413a",
   "metadata": {},
   "outputs": [],
   "source": [
    "hist = pd.DataFrame(requests.get('https://coincodex.com/api/coincodex/get_coin_history/matic/2021-1-1/2021-10-28/10000').json()['MATIC'], columns=['date', 'price', '24hr vol', '?'])\n",
    "hist = hist[['date', 'price']]\n",
    "# Convert UNIX timestamps\n",
    "hist['date'] = pd.to_datetime(hist['date'], unit='s')\n",
    "hist.set_index('date', inplace=True)\n",
    "hist['20 SMA'] = hist.price.rolling(20).mean()\n",
    "hist.tail()"
   ]
  },
  {
   "cell_type": "code",
   "execution_count": null,
   "id": "8c56bbf8",
   "metadata": {},
   "outputs": [],
   "source": [
    "import plotly.graph_objects as go\n",
    "\n",
    "fig = go.Figure(data=[go.Scatter(x=hist.index, y=hist['20 SMA'], line=dict(color='purple', width=1))])\n",
    "\n",
    "\n",
    "fig.show()"
   ]
  },
  {
   "cell_type": "markdown",
   "id": "00ab7b78",
   "metadata": {},
   "source": [
    "# Coin Markets"
   ]
  },
  {
   "cell_type": "code",
   "execution_count": null,
   "id": "6e668c2e",
   "metadata": {},
   "outputs": [],
   "source": [
    "requests.get('https://coincodex.com/api/exchange/get_markets_by_coin/matic/').json()"
   ]
  },
  {
   "cell_type": "markdown",
   "id": "94382326",
   "metadata": {},
   "source": [
    "# Coin Ranges"
   ]
  },
  {
   "cell_type": "code",
   "execution_count": null,
   "id": "b3af213f",
   "metadata": {},
   "outputs": [],
   "source": [
    "c_range = requests.get('https://coincodex.com/api/coincodex/get_coin_ranges/FTM,MATIC/').json()\n",
    "c_range"
   ]
  }
 ],
 "metadata": {
  "kernelspec": {
   "display_name": "Python 3 (ipykernel)",
   "language": "python",
   "name": "python3"
  },
  "language_info": {
   "codemirror_mode": {
    "name": "ipython",
    "version": 3
   },
   "file_extension": ".py",
   "mimetype": "text/x-python",
   "name": "python",
   "nbconvert_exporter": "python",
   "pygments_lexer": "ipython3",
   "version": "3.8.8"
  }
 },
 "nbformat": 4,
 "nbformat_minor": 5
}
